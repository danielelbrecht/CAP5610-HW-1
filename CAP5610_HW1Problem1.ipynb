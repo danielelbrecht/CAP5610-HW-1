{
  "nbformat": 4,
  "nbformat_minor": 0,
  "metadata": {
    "colab": {
      "name": "CAP5610_HW1Problem1.ipynb",
      "version": "0.3.2",
      "provenance": [],
      "collapsed_sections": [],
      "include_colab_link": true
    },
    "kernelspec": {
      "name": "python3",
      "display_name": "Python 3"
    }
  },
  "cells": [
    {
      "cell_type": "markdown",
      "metadata": {
        "id": "view-in-github",
        "colab_type": "text"
      },
      "source": [
        "<a href=\"https://colab.research.google.com/github/danielelbrecht/CAP5610-HW-1/blob/master/CAP5610_HW1Problem1.ipynb\" target=\"_parent\"><img src=\"https://colab.research.google.com/assets/colab-badge.svg\" alt=\"Open In Colab\"/></a>"
      ]
    },
    {
      "metadata": {
        "id": "jMkicjyD7fi5",
        "colab_type": "code",
        "outputId": "3f4c5e8d-09c0-4783-c24f-4191101d33b1",
        "colab": {
          "base_uri": "https://localhost:8080/",
          "height": 68
        }
      },
      "cell_type": "code",
      "source": [
        "import numpy as np\n",
        "import sklearn\n",
        "from keras.datasets import mnist\n",
        "\n",
        "#Load data\n",
        "(train_images_original, train_labels_original), (test_images_original, test_labels_original) = mnist.load_data()\n",
        "\n",
        "\n"
      ],
      "execution_count": 3,
      "outputs": [
        {
          "output_type": "stream",
          "text": [
            "Using TensorFlow backend.\n"
          ],
          "name": "stderr"
        },
        {
          "output_type": "stream",
          "text": [
            "Downloading data from https://s3.amazonaws.com/img-datasets/mnist.npz\n",
            "11493376/11490434 [==============================] - 0s 0us/step\n"
          ],
          "name": "stdout"
        }
      ]
    },
    {
      "metadata": {
        "id": "gTfDgtLR8R80",
        "colab_type": "code",
        "colab": {}
      },
      "cell_type": "code",
      "source": [
        "#Preprocess data\n",
        "train_images = train_images_original.reshape((60000, 28 * 28))\n",
        "train_images = train_images.astype('float32') / 255\n",
        "\n",
        "test_images = test_images_original.reshape((10000, 28 * 28))\n",
        "test_images = test_images.astype('float32') / 255\n",
        "\n",
        "\n",
        "#Prepare data for binary classifiers\n",
        "binary_labels = []\n",
        "binary_test_labels = []\n",
        "\n",
        "#Training labels\n",
        "for i in range(10):\n",
        "  temp = []\n",
        "  for j in range(len(train_labels_original)):\n",
        "    if train_labels_original[j] == i:\n",
        "      temp.append(1)\n",
        "    else:\n",
        "      temp.append(0)\n",
        "      \n",
        "  binary_labels.append(temp)\n",
        " \n",
        "#Test Labels\n",
        "for i in range(10):\n",
        "  temp = []\n",
        "  for j in range(len(test_labels_original)):\n",
        "    if test_labels_original[j] == i:\n",
        "      temp.append(1)\n",
        "    else:\n",
        "      temp.append(0)\n",
        "      \n",
        "  binary_test_labels.append(temp)\n",
        "  \n",
        "\n",
        "\n"
      ],
      "execution_count": 0,
      "outputs": []
    },
    {
      "metadata": {
        "id": "Oj9vmN6b8PCe",
        "colab_type": "code",
        "colab": {}
      },
      "cell_type": "code",
      "source": [
        "#Use one-hot encoding\n",
        "from keras.utils import to_categorical\n",
        "\n",
        "train_labels = to_categorical(train_labels_original)\n",
        "test_labels = to_categorical(test_labels_original)"
      ],
      "execution_count": 0,
      "outputs": []
    },
    {
      "metadata": {
        "id": "vE4jyug8LG5p",
        "colab_type": "code",
        "colab": {}
      },
      "cell_type": "code",
      "source": [
        "#Some functions\n",
        "def sigmoid(z):\n",
        "  return 1 / (1 + np.exp(-z))\n",
        "\n",
        "def activation(w, x):\n",
        "  return np.dot(w,x)\n",
        "\n",
        "def gradient(w, x, y):\n",
        "  return np.dot(np.transpose(x), np.transpose(sigmoid(np.dot(x, w))-y))\n",
        "\n",
        "def mse(w, x, y):\n",
        "  loss = 0\n",
        "  predictions = sigmoid(np.dot(x, w))\n",
        "  for i in range(len(y)):\n",
        "    loss = loss + (np.square(predictions[i]-y[i]))\n",
        "                   \n",
        "  loss = loss / len(y)\n",
        "  return loss\n",
        "  \n"
      ],
      "execution_count": 0,
      "outputs": []
    },
    {
      "metadata": {
        "id": "uc2omea1fEN2",
        "colab_type": "code",
        "colab": {}
      },
      "cell_type": "code",
      "source": [
        ""
      ],
      "execution_count": 0,
      "outputs": []
    },
    {
      "metadata": {
        "id": "BRtUypoH8VwB",
        "colab_type": "code",
        "colab": {}
      },
      "cell_type": "code",
      "source": [
        "import random\n",
        "\n",
        "#Initialize weight matrix (for 10 classifiers)\n",
        "weights = []\n",
        "\n",
        "for i in range(10):\n",
        "  weights.append([])\n",
        "  for j in range(784):\n",
        "    weights[i].append(random.random())\n",
        "    \n",
        "\n",
        "\n"
      ],
      "execution_count": 0,
      "outputs": []
    },
    {
      "metadata": {
        "id": "yB0JjNmtIaVG",
        "colab_type": "code",
        "colab": {
          "base_uri": "https://localhost:8080/",
          "height": 357
        },
        "outputId": "78094da6-b34c-49ef-d2e7-93313cb47e12"
      },
      "cell_type": "code",
      "source": [
        "#Training\n",
        "\n",
        "#Hyperparameters\n",
        "epochs = 20\n",
        "batch_size = 100\n",
        "learning_rate = 0.01\n",
        "\n",
        "training_loss_history = []\n",
        "test_loss_history = []\n",
        "batch_count = []\n",
        "\n",
        "\n",
        "\n",
        "#Iterate over epochs\n",
        "for i in range(epochs):\n",
        "  #Iterate over mini batches\n",
        "  for j in range(int(len(train_images)/batch_size)):\n",
        "    \n",
        "    #get mini batch\n",
        "    data = train_images[batch_size*j:min(len(train_images), batch_size*(j+1))]\n",
        "    labels = binary_labels[0][batch_size*j:min(len(train_images), batch_size*(j+1))]\n",
        "    \n",
        "\n",
        "    \n",
        "    #adjust weights\n",
        "    weights[0] = weights[0] - learning_rate * gradient(weights[0], data, labels)\n",
        "    \n",
        "    \n",
        "  \n",
        "  training_loss = mse(weights[0], train_images, binary_labels[0])\n",
        "  test_loss = mse(weights[0], test_images, binary_test_labels[0])\n",
        "  \n",
        "  batch_count.append(i)\n",
        "  \n",
        "  training_loss_history.append(training_loss)\n",
        "  test_loss_history.append(test_loss)\n",
        "  print(\"Epoch\", i, 'Training loss:', training_loss, 'Test Loss', test_loss)\n",
        "  \n",
        "  "
      ],
      "execution_count": 43,
      "outputs": [
        {
          "output_type": "stream",
          "text": [
            "Epoch 0 Training loss: 0.012408051845194844 Test Loss 0.010079384902881681\n",
            "Epoch 1 Training loss: 0.009889788738251819 Test Loss 0.007970642926557688\n",
            "Epoch 2 Training loss: 0.008951665888464494 Test Loss 0.007176356059121227\n",
            "Epoch 3 Training loss: 0.008428915960674176 Test Loss 0.006747200764928677\n",
            "Epoch 4 Training loss: 0.008068136565852762 Test Loss 0.006476806725371388\n",
            "Epoch 5 Training loss: 0.007792477281838035 Test Loss 0.006291801261800689\n",
            "Epoch 6 Training loss: 0.007569921918111743 Test Loss 0.006158123299811877\n",
            "Epoch 7 Training loss: 0.0073843033021071215 Test Loss 0.0060577691804292915\n",
            "Epoch 8 Training loss: 0.007226337812257602 Test Loss 0.005980355161300515\n",
            "Epoch 9 Training loss: 0.007090079798464207 Test Loss 0.005919393641884517\n",
            "Epoch 10 Training loss: 0.0069713557873709794 Test Loss 0.005870552352244057\n",
            "Epoch 11 Training loss: 0.0068670459765777635 Test Loss 0.005830802120159399\n",
            "Epoch 12 Training loss: 0.0067747319813792175 Test Loss 0.005797965574714489\n",
            "Epoch 13 Training loss: 0.006692500901829442 Test Loss 0.005770453062796212\n",
            "Epoch 14 Training loss: 0.0066188197847822615 Test Loss 0.005747093390512222\n",
            "Epoch 15 Training loss: 0.006552446979841744 Test Loss 0.005727018215436311\n",
            "Epoch 16 Training loss: 0.0064923666910530154 Test Loss 0.005709580133144235\n",
            "Epoch 17 Training loss: 0.006437739917655934 Test Loss 0.005694293550829069\n",
            "Epoch 18 Training loss: 0.0063878674746030905 Test Loss 0.0056807916416416835\n",
            "Epoch 19 Training loss: 0.0063421619654190405 Test Loss 0.005668794890168424\n"
          ],
          "name": "stdout"
        }
      ]
    },
    {
      "metadata": {
        "id": "gt3pNR-XhK-g",
        "colab_type": "code",
        "colab": {
          "base_uri": "https://localhost:8080/",
          "height": 347
        },
        "outputId": "fc4d2871-4368-4156-e16b-50f17b73ed12"
      },
      "cell_type": "code",
      "source": [
        "import matplotlib as mpl\n",
        "import matplotlib.pyplot as plt\n",
        "\n",
        "plt.plot(batch_count, training_loss_history)\n",
        "plt.plot(batch_count, test_loss_history)\n",
        "plt.show()\n"
      ],
      "execution_count": 41,
      "outputs": [
        {
          "output_type": "display_data",
          "data": {
            "image/png": "[encoded data removed]",
            "text/plain": [
              "<Figure size 576x396 with 1 Axes>"
            ]
          },
          "metadata": {
            "tags": []
          }
        }
      ]
    }
  ]
}