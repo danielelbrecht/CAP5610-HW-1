{
  "nbformat": 4,
  "nbformat_minor": 0,
  "metadata": {
    "colab": {
      "name": "CAP5610_HW1Problem4.ipynb",
      "version": "0.3.2",
      "provenance": [],
      "include_colab_link": true
    },
    "kernelspec": {
      "name": "python3",
      "display_name": "Python 3"
    }
  },
  "cells": [
    {
      "cell_type": "markdown",
      "metadata": {
        "id": "view-in-github",
        "colab_type": "text"
      },
      "source": [
        "<a href=\"https://colab.research.google.com/github/danielelbrecht/CAP5610-HW-1/blob/master/CAP5610_HW1Problem4.ipynb\" target=\"_parent\"><img src=\"https://colab.research.google.com/assets/colab-badge.svg\" alt=\"Open In Colab\"/></a>"
      ]
    },
    {
      "metadata": {
        "id": "u_uQh4L3753M",
        "colab_type": "code",
        "colab": {
          "base_uri": "https://localhost:8080/",
          "height": 34
        },
        "outputId": "48dd3986-9a32-4dd7-b775-2783101f55b0"
      },
      "cell_type": "code",
      "source": [
        "import numpy as np\n",
        "import sklearn\n",
        "from keras.datasets import mnist\n",
        "import tensorflow as tf\n",
        "from tensorflow.keras import layers\n",
        "\n",
        "#Load data\n",
        "(train_images_original, train_labels_original), (test_images_original, test_labels_original) = mnist.load_data()"
      ],
      "execution_count": 1,
      "outputs": [
        {
          "output_type": "stream",
          "text": [
            "Using TensorFlow backend.\n"
          ],
          "name": "stderr"
        }
      ]
    },
    {
      "metadata": {
        "id": "QxlUP_iJ789W",
        "colab_type": "code",
        "colab": {}
      },
      "cell_type": "code",
      "source": [
        "#Preprocess data\n",
        "train_images = train_images_original.reshape((60000, 28 * 28))\n",
        "train_images = train_images.astype('float32') / 255\n",
        "\n",
        "test_images = test_images_original.reshape((10000, 28 * 28))\n",
        "test_images = test_images.astype('float32') / 255"
      ],
      "execution_count": 0,
      "outputs": []
    },
    {
      "metadata": {
        "id": "Z0DeeP-38RfY",
        "colab_type": "code",
        "colab": {}
      },
      "cell_type": "code",
      "source": [
        "#Define hyperparameters\n",
        "learning_rate = 0.01\n",
        "epochs = 10\n",
        "classes = 10\n",
        "batch_size = 100\n",
        "\n",
        "#Use one-hot encoding\n",
        "from keras.utils import to_categorical\n",
        "\n",
        "train_labels = to_categorical(train_labels_original)\n",
        "test_labels = to_categorical(test_labels_original)"
      ],
      "execution_count": 0,
      "outputs": []
    },
    {
      "metadata": {
        "id": "3AJp2cIc8WBY",
        "colab_type": "code",
        "colab": {}
      },
      "cell_type": "code",
      "source": [
        "#Define model\n",
        "model = tf.keras.Sequential()\n",
        "\n",
        "model.add(layers.Dense(10, activation = 'softmax'))\n",
        "\n",
        "model.compile(optimizer = tf.train.AdamOptimizer(learning_rate),\n",
        "                            loss = 'categorical_crossentropy',\n",
        "                            metrics=['accuracy'])"
      ],
      "execution_count": 0,
      "outputs": []
    },
    {
      "metadata": {
        "id": "xwVhFd_V8j6Y",
        "colab_type": "code",
        "colab": {
          "base_uri": "https://localhost:8080/",
          "height": 445
        },
        "outputId": "afc570e7-ed16-433f-87d3-f1a78d348b78"
      },
      "cell_type": "code",
      "source": [
        "#Training\n",
        "\n",
        "model.fit(train_images, train_labels, epochs = epochs, batch_size = batch_size)"
      ],
      "execution_count": 8,
      "outputs": [
        {
          "output_type": "stream",
          "text": [
            "WARNING:tensorflow:From /usr/local/lib/python3.6/dist-packages/tensorflow/python/ops/math_ops.py:3066: to_int32 (from tensorflow.python.ops.math_ops) is deprecated and will be removed in a future version.\n",
            "Instructions for updating:\n",
            "Use tf.cast instead.\n",
            "Epoch 1/10\n",
            "60000/60000 [==============================] - 2s 27us/sample - loss: 0.3605 - acc: 0.8979\n",
            "Epoch 2/10\n",
            "60000/60000 [==============================] - 1s 21us/sample - loss: 0.2963 - acc: 0.9174\n",
            "Epoch 3/10\n",
            "60000/60000 [==============================] - 1s 21us/sample - loss: 0.2874 - acc: 0.9208\n",
            "Epoch 4/10\n",
            "60000/60000 [==============================] - 1s 21us/sample - loss: 0.2830 - acc: 0.9222\n",
            "Epoch 5/10\n",
            "60000/60000 [==============================] - 1s 21us/sample - loss: 0.2793 - acc: 0.9235\n",
            "Epoch 6/10\n",
            "60000/60000 [==============================] - 1s 21us/sample - loss: 0.2751 - acc: 0.9237\n",
            "Epoch 7/10\n",
            "60000/60000 [==============================] - 1s 21us/sample - loss: 0.2752 - acc: 0.9243\n",
            "Epoch 8/10\n",
            "60000/60000 [==============================] - 1s 21us/sample - loss: 0.2717 - acc: 0.9245\n",
            "Epoch 9/10\n",
            "60000/60000 [==============================] - 1s 21us/sample - loss: 0.2698 - acc: 0.9265\n",
            "Epoch 10/10\n",
            "60000/60000 [==============================] - 1s 21us/sample - loss: 0.2710 - acc: 0.9258\n"
          ],
          "name": "stdout"
        },
        {
          "output_type": "execute_result",
          "data": {
            "text/plain": [
              "<tensorflow.python.keras.callbacks.History at 0x7f0b8c028be0>"
            ]
          },
          "metadata": {
            "tags": []
          },
          "execution_count": 8
        }
      ]
    }
  ]
}