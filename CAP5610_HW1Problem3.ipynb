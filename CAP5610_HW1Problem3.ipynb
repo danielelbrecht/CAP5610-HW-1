{
  "nbformat": 4,
  "nbformat_minor": 0,
  "metadata": {
    "colab": {
      "name": "CAP5610_HW1Problem3.ipynb",
      "version": "0.3.2",
      "provenance": [],
      "collapsed_sections": [],
      "include_colab_link": true
    },
    "kernelspec": {
      "name": "python3",
      "display_name": "Python 3"
    }
  },
  "cells": [
    {
      "cell_type": "markdown",
      "metadata": {
        "id": "view-in-github",
        "colab_type": "text"
      },
      "source": [
        "<a href=\"https://colab.research.google.com/github/danielelbrecht/CAP5610-HW-1/blob/master/CAP5610_HW1Problem3.ipynb\" target=\"_parent\"><img src=\"https://colab.research.google.com/assets/colab-badge.svg\" alt=\"Open In Colab\"/></a>"
      ]
    },
    {
      "metadata": {
        "id": "7DEeYaWiqczS",
        "colab_type": "text"
      },
      "cell_type": "markdown",
      "source": [
        "# Single layer digit classifier using softmax activation and categorical cross entropy loss"
      ]
    },
    {
      "metadata": {
        "id": "sGh_heRqqmMe",
        "colab_type": "code",
        "colab": {
          "base_uri": "https://localhost:8080/",
          "height": 68
        },
        "outputId": "3c1d36ec-f665-484c-f7cc-7efa4c5ce1f6"
      },
      "cell_type": "code",
      "source": [
        "#Import data\n",
        "import numpy as np\n",
        "import sklearn\n",
        "from keras.datasets import mnist\n",
        "\n",
        "#Load data\n",
        "(train_images_original, train_labels_original), (test_images_original, test_labels_original) = mnist.load_data()"
      ],
      "execution_count": 1,
      "outputs": [
        {
          "output_type": "stream",
          "text": [
            "Using TensorFlow backend.\n"
          ],
          "name": "stderr"
        },
        {
          "output_type": "stream",
          "text": [
            "Downloading data from https://s3.amazonaws.com/img-datasets/mnist.npz\n",
            "11493376/11490434 [==============================] - 1s 0us/step\n"
          ],
          "name": "stdout"
        }
      ]
    },
    {
      "metadata": {
        "id": "aMVU754rqyJs",
        "colab_type": "code",
        "colab": {}
      },
      "cell_type": "code",
      "source": [
        "#Preprocess data\n",
        "train_images = train_images_original.reshape((60000, 28 * 28))\n",
        "train_images = train_images.astype('float32') / 255\n",
        "\n",
        "test_images = test_images_original.reshape((10000, 28 * 28))\n",
        "test_images = test_images.astype('float32') / 255\n",
        "\n",
        "\n",
        "\n",
        "#Use one-hot encoding\n",
        "from keras.utils import to_categorical\n",
        "\n",
        "train_labels = to_categorical(train_labels_original)\n",
        "test_labels = to_categorical(test_labels_original)"
      ],
      "execution_count": 0,
      "outputs": []
    },
    {
      "metadata": {
        "id": "-Jmf5t8xrIJ0",
        "colab_type": "code",
        "colab": {}
      },
      "cell_type": "code",
      "source": [
        "\n",
        "\n",
        "#Returns the ativations for an entire mini batch\n",
        "def softmax(weights, data):\n",
        "  \n",
        "  activations = []\n",
        "  \n",
        "  for i in range(len(data)):\n",
        "    total = 0\n",
        "    temp = []\n",
        "    for j in range(10):\n",
        "      total = total + np.exp(np.dot(weights[j], data[i]))\n",
        "      temp.append(np.exp(np.dot(weights[j], data[i])))\n",
        "    temp = temp / total\n",
        "    activations.append(temp)\n",
        "    \n",
        "  return activations\n",
        "  \n",
        "  \n",
        "\n",
        "\n",
        "#gradient function for softmax activation with log loss = y(a-k)*X\n",
        "def gradient(weights, bias, x, y):\n",
        "  \n",
        "  batch_size = len(x)\n",
        "  \n",
        "  #Generate matrix for Kronecker delta\n",
        "  KD = np.zeros(shape = (10,10))\n",
        "  for i in range(10):\n",
        "    KD[i][i] = 1\n",
        "    \n",
        "  z = [0,0,0,0,0,0,0,0,0,0]\n",
        "  \n",
        "  #Get softmax activations for batch\n",
        "  activations = softmax(weights, x) \n",
        "   \n",
        "  #Iterate over each training example in batch\n",
        "  for i in range(batch_size):\n",
        "    \n",
        "    #Iterate over each neuron\n",
        "    for j in range(10):\n",
        "      \n",
        "      total = 0\n",
        "      #Iterate over each activation\n",
        "      for k in range(10):\n",
        "        total = total + y[i][k]*(activations[i][j] - KD[j][k])\n",
        "        \n",
        "      z[j] = z[j] + total\n",
        "  \n",
        "  #Take average of batch\n",
        "  for i in range(10):\n",
        "    z[i] = z[i] / batch_size\n",
        "  \n",
        "  #Now calculate dL/dW\n",
        "  gradient = np.zeros(shape = (10,784))\n",
        "  \n",
        "  for i in range(batch_size):\n",
        "    for j in range(10):\n",
        "      for k in range(784):\n",
        "        gradient[j][k] = gradient[j][k] + (x[i][k] / batch_size) * z[j]\n",
        "  \n",
        "  return gradient\n",
        "  \n",
        "  \n",
        "\n",
        "def bias_gradient():\n",
        "  return\n",
        "\n",
        "#Calculat cce loss\n",
        "def cce_loss(weights, bias, x, y):\n",
        "  \n",
        "  length = len(y)\n",
        "  loss = 0.0\n",
        "  predictions = softmax(weights, x)\n",
        "  \n",
        "  for i in range(length):\n",
        "    temp = 0.0\n",
        "    for j in range(10):\n",
        "      temp = temp + y[i][j] * np.log(predictions[i][j])\n",
        "      \n",
        "    loss = loss - temp\n",
        "      \n",
        "  return loss / float(length)"
      ],
      "execution_count": 0,
      "outputs": []
    },
    {
      "metadata": {
        "id": "qa6vm_rWq1Cp",
        "colab_type": "code",
        "colab": {}
      },
      "cell_type": "code",
      "source": [
        "import random\n",
        "\n",
        "\n",
        "\n",
        "#Initialize weight matrix\n",
        "#w[0][50] represents the 50th weight of the 0th neuron\n",
        "weights = []\n",
        "bias = []\n",
        "\n",
        "for i in range(10):\n",
        "  weights.append([])\n",
        "  bias.append(random.random()-0.5)\n",
        "  for j in range(784):\n",
        "    weights[i].append(random.random()-0.5)\n",
        "    "
      ],
      "execution_count": 0,
      "outputs": []
    },
    {
      "metadata": {
        "id": "n_YYQjUckyqN",
        "colab_type": "code",
        "outputId": "8068952b-1ae1-4e6e-bcaa-981d7cb20b12",
        "colab": {
          "base_uri": "https://localhost:8080/",
          "height": 136
        }
      },
      "cell_type": "code",
      "source": [
        "#Testing\n",
        "gradient(weights, bias, train_images[1:10], train_labels[1:10])"
      ],
      "execution_count": 39,
      "outputs": [
        {
          "output_type": "execute_result",
          "data": {
            "text/plain": [
              "array([[0., 0., 0., ..., 0., 0., 0.],\n",
              "       [0., 0., 0., ..., 0., 0., 0.],\n",
              "       [0., 0., 0., ..., 0., 0., 0.],\n",
              "       ...,\n",
              "       [0., 0., 0., ..., 0., 0., 0.],\n",
              "       [0., 0., 0., ..., 0., 0., 0.],\n",
              "       [0., 0., 0., ..., 0., 0., 0.]])"
            ]
          },
          "metadata": {
            "tags": []
          },
          "execution_count": 39
        }
      ]
    },
    {
      "metadata": {
        "id": "D94Z5NgK9g-h",
        "colab_type": "code",
        "outputId": "ced0d1d9-81a7-412b-aad4-cfd1ee32cef9",
        "colab": {
          "base_uri": "https://localhost:8080/",
          "height": 1309
        }
      },
      "cell_type": "code",
      "source": [
        "#Training\n",
        "\n",
        "#Define hyperparameters\n",
        "epochs = 1\n",
        "batch_size = 500\n",
        "learning_rate = 0.02\n",
        "length = 30000\n",
        "\n",
        "\n",
        "loss_history = []\n",
        "\n",
        "#Iterate over epochs\n",
        "for i in range(epochs):\n",
        "  \n",
        "  #Iterate over mini batches\n",
        "  for j in range(int(length/batch_size)):\n",
        "    \n",
        "    \n",
        "    #get mini batch\n",
        "    data = train_images[batch_size*j:min(length, batch_size*(j+1))]\n",
        "    labels = train_labels[batch_size*j:min(length, batch_size*(j+1))]\n",
        "    \n",
        "    #Update weights\n",
        "    weights = weights - learning_rate*gradient(weights, bias, data, labels)\n",
        "    #bias = bias - learning_rate * bias_gradient(weight, bias, data, labels)\n",
        "    \n",
        "    print(\"Mini batch %i complete\" % j)\n",
        "    \n",
        "    #measure loss after every 2,000 data points\n",
        "    if batch_size * j % 2000 == 0:\n",
        "      loss = cce_loss(weights, bias, train_images, train_labels)\n",
        "      \n",
        "      print(\"Training loss %f\" % loss)\n",
        "      loss_history.append(loss)\n",
        "      \n",
        "  print('Epoch %i complete' % i)"
      ],
      "execution_count": 43,
      "outputs": [
        {
          "output_type": "stream",
          "text": [
            "Mini batch 0 complete\n",
            "Training loss 5.148343\n",
            "Mini batch 1 complete\n",
            "Mini batch 2 complete\n",
            "Mini batch 3 complete\n",
            "Mini batch 4 complete\n",
            "Training loss 4.838033\n",
            "Mini batch 5 complete\n",
            "Mini batch 6 complete\n",
            "Mini batch 7 complete\n",
            "Mini batch 8 complete\n",
            "Training loss 4.652869\n",
            "Mini batch 9 complete\n",
            "Mini batch 10 complete\n",
            "Mini batch 11 complete\n",
            "Mini batch 12 complete\n",
            "Training loss 4.504868\n",
            "Mini batch 13 complete\n",
            "Mini batch 14 complete\n",
            "Mini batch 15 complete\n",
            "Mini batch 16 complete\n",
            "Training loss 4.422376\n",
            "Mini batch 17 complete\n",
            "Mini batch 18 complete\n",
            "Mini batch 19 complete\n",
            "Mini batch 20 complete\n",
            "Training loss 4.353999\n",
            "Mini batch 21 complete\n",
            "Mini batch 22 complete\n",
            "Mini batch 23 complete\n",
            "Mini batch 24 complete\n",
            "Training loss 4.302783\n",
            "Mini batch 25 complete\n",
            "Mini batch 26 complete\n",
            "Mini batch 27 complete\n",
            "Mini batch 28 complete\n",
            "Training loss 4.260504\n",
            "Mini batch 29 complete\n",
            "Mini batch 30 complete\n",
            "Mini batch 31 complete\n",
            "Mini batch 32 complete\n",
            "Training loss 4.236916\n",
            "Mini batch 33 complete\n",
            "Mini batch 34 complete\n",
            "Mini batch 35 complete\n",
            "Mini batch 36 complete\n",
            "Training loss 4.217614\n",
            "Mini batch 37 complete\n",
            "Mini batch 38 complete\n",
            "Mini batch 39 complete\n",
            "Mini batch 40 complete\n",
            "Training loss 4.196416\n",
            "Mini batch 41 complete\n",
            "Mini batch 42 complete\n",
            "Mini batch 43 complete\n",
            "Mini batch 44 complete\n",
            "Training loss 4.181394\n",
            "Mini batch 45 complete\n",
            "Mini batch 46 complete\n",
            "Mini batch 47 complete\n",
            "Mini batch 48 complete\n",
            "Training loss 4.167716\n",
            "Mini batch 49 complete\n",
            "Mini batch 50 complete\n",
            "Mini batch 51 complete\n",
            "Mini batch 52 complete\n",
            "Training loss 4.161174\n",
            "Mini batch 53 complete\n",
            "Mini batch 54 complete\n",
            "Mini batch 55 complete\n",
            "Mini batch 56 complete\n",
            "Training loss 4.153328\n",
            "Mini batch 57 complete\n",
            "Mini batch 58 complete\n",
            "Mini batch 59 complete\n",
            "Epoch 0 complete\n"
          ],
          "name": "stdout"
        }
      ]
    },
    {
      "metadata": {
        "id": "nXR7C3xf6S88",
        "colab_type": "code",
        "outputId": "09737d1d-b77d-4450-e182-5fd3a0e5776e",
        "colab": {
          "base_uri": "https://localhost:8080/",
          "height": 376
        }
      },
      "cell_type": "code",
      "source": [
        "#plot loss\n",
        "\n",
        "import matplotlib as mpl\n",
        "import matplotlib.pyplot as plt\n",
        "\n",
        "index = []\n",
        "for i in range(len(loss_history)):\n",
        "  index.append(i* batch_size)\n",
        "\n",
        "plt.plot(index, loss_history)\n",
        "plt.xlabel(\"# of training examples\")\n",
        "plt.ylabel(\"CCE LossLoss\")\n",
        "plt.title(\"Categorical Cross Entropy loss for softmax classifier\")\n",
        "plt.show()"
      ],
      "execution_count": 46,
      "outputs": [
        {
          "output_type": "display_data",
          "data": {
            "image/png": "[encoded data removed]",
            "text/plain": [
              "<Figure size 576x396 with 1 Axes>"
            ]
          },
          "metadata": {
            "tags": []
          }
        }
      ]
    }
  ]
}