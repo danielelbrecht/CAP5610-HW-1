{
  "nbformat": 4,
  "nbformat_minor": 0,
  "metadata": {
    "colab": {
      "name": "Copy of CAP5610_HW1Problem2.ipynb",
      "version": "0.3.2",
      "provenance": [],
      "collapsed_sections": [],
      "include_colab_link": true
    },
    "kernelspec": {
      "name": "python3",
      "display_name": "Python 3"
    }
  },
  "cells": [
    {
      "cell_type": "markdown",
      "metadata": {
        "id": "view-in-github",
        "colab_type": "text"
      },
      "source": [
        "<a href=\"https://colab.research.google.com/github/danielelbrecht/CAP5610-HW-1/blob/master/CAP5610_HW1Problem2.ipynb\" target=\"_parent\"><img src=\"https://colab.research.google.com/assets/colab-badge.svg\" alt=\"Open In Colab\"/></a>"
      ]
    },
    {
      "metadata": {
        "id": "jMkicjyD7fi5",
        "colab_type": "code",
        "outputId": "913305ac-e166-4598-9338-466f5bad6db7",
        "colab": {
          "base_uri": "https://localhost:8080/",
          "height": 68
        }
      },
      "cell_type": "code",
      "source": [
        "import numpy as np\n",
        "import sklearn\n",
        "from keras.datasets import mnist\n",
        "\n",
        "#Load data\n",
        "(train_images_original, train_labels_original), (test_images_original, test_labels_original) = mnist.load_data()\n",
        "\n",
        "\n"
      ],
      "execution_count": 0,
      "outputs": [
        {
          "output_type": "stream",
          "text": [
            "Using TensorFlow backend.\n"
          ],
          "name": "stderr"
        },
        {
          "output_type": "stream",
          "text": [
            "Downloading data from https://s3.amazonaws.com/img-datasets/mnist.npz\n",
            "11493376/11490434 [==============================] - 0s 0us/step\n"
          ],
          "name": "stdout"
        }
      ]
    },
    {
      "metadata": {
        "id": "gTfDgtLR8R80",
        "colab_type": "code",
        "colab": {}
      },
      "cell_type": "code",
      "source": [
        "#Preprocess data\n",
        "train_images = train_images_original.reshape((60000, 28 * 28))\n",
        "train_images = train_images.astype('float32') / 255\n",
        "\n",
        "test_images = test_images_original.reshape((10000, 28 * 28))\n",
        "test_images = test_images.astype('float32') / 255\n",
        "\n",
        "\n",
        "#Prepare data for binary classifiers\n",
        "binary_labels = []\n",
        "binary_test_labels = []\n",
        "\n",
        "#Training labels\n",
        "for i in range(10):\n",
        "  temp = []\n",
        "  for j in range(len(train_labels_original)):\n",
        "    if train_labels_original[j] == i:\n",
        "      temp.append(1)\n",
        "    else:\n",
        "      temp.append(0)\n",
        "      \n",
        "  binary_labels.append(temp)\n",
        " \n",
        "#Test Labels\n",
        "for i in range(10):\n",
        "  temp = []\n",
        "  for j in range(len(test_labels_original)):\n",
        "    if test_labels_original[j] == i:\n",
        "      temp.append(1)\n",
        "    else:\n",
        "      temp.append(0)\n",
        "      \n",
        "  binary_test_labels.append(temp)\n",
        "  \n",
        "\n",
        "\n"
      ],
      "execution_count": 0,
      "outputs": []
    },
    {
      "metadata": {
        "id": "Oj9vmN6b8PCe",
        "colab_type": "code",
        "colab": {}
      },
      "cell_type": "code",
      "source": [
        "#Use one-hot encoding\n",
        "from keras.utils import to_categorical\n",
        "\n",
        "train_labels = to_categorical(train_labels_original)\n",
        "test_labels = to_categorical(test_labels_original)"
      ],
      "execution_count": 0,
      "outputs": []
    },
    {
      "metadata": {
        "id": "vE4jyug8LG5p",
        "colab_type": "code",
        "colab": {}
      },
      "cell_type": "code",
      "source": [
        "#Some functions\n",
        "def sigmoid(z):\n",
        "  return 1 / (1 + np.exp(-z))\n",
        "\n",
        "def activation(w, x):\n",
        "  return np.dot(w,x)\n",
        "\n",
        "def gradient(w, x, y):\n",
        "  return np.dot(np.transpose(x), np.transpose(sigmoid(np.dot(x, w))-y))\n",
        "\n",
        "def mse(w, x, y):\n",
        "  loss = 0\n",
        "  predictions = sigmoid(np.dot(x, w))\n",
        "  for i in range(len(y)):\n",
        "    loss = loss + (np.square(predictions[i]-y[i]))\n",
        "                   \n",
        "  loss = loss / len(y)\n",
        "  return loss\n",
        "  \n"
      ],
      "execution_count": 0,
      "outputs": []
    },
    {
      "metadata": {
        "id": "uc2omea1fEN2",
        "colab_type": "code",
        "colab": {}
      },
      "cell_type": "code",
      "source": [
        ""
      ],
      "execution_count": 0,
      "outputs": []
    },
    {
      "metadata": {
        "id": "BRtUypoH8VwB",
        "colab_type": "code",
        "colab": {}
      },
      "cell_type": "code",
      "source": [
        "import random\n",
        "\n",
        "#Initialize weight matrix (for 10 classifiers)\n",
        "weights = []\n",
        "\n",
        "for i in range(10):\n",
        "  weights.append([])\n",
        "  for j in range(784):\n",
        "    weights[i].append(random.random())\n",
        "    \n",
        "\n",
        "\n"
      ],
      "execution_count": 0,
      "outputs": []
    },
    {
      "metadata": {
        "id": "yB0JjNmtIaVG",
        "colab_type": "code",
        "outputId": "ad175e5a-dd5a-4fcd-f13f-8313095b08a6",
        "colab": {
          "base_uri": "https://localhost:8080/",
          "height": 357
        }
      },
      "cell_type": "code",
      "source": [
        "#Training\n",
        "\n",
        "#Hyperparameters\n",
        "epochs = 20\n",
        "batch_size = 100\n",
        "learning_rate = 0.01\n",
        "\n",
        "training_loss_history = []\n",
        "test_loss_history = []\n",
        "batch_count = []\n",
        "\n",
        "\n",
        "\n",
        "#Iterate over epochs\n",
        "for i in range(epochs):\n",
        "  #Iterate over mini batches\n",
        "  for j in range(int(len(train_images)/batch_size)):\n",
        "    \n",
        "    #get mini batch\n",
        "    data = train_images[batch_size*j:min(len(train_images), batch_size*(j+1))]\n",
        "    labels = binary_labels[0][batch_size*j:min(len(train_images), batch_size*(j+1))]\n",
        "    \n",
        "\n",
        "    \n",
        "    #adjust weights\n",
        "    weights[0] = weights[0] - learning_rate * gradient(weights[0], data, labels)\n",
        "    \n",
        "    \n",
        "  \n",
        "  training_loss = mse(weights[0], train_images, binary_labels[0])\n",
        "  test_loss = mse(weights[0], test_images, binary_test_labels[0])\n",
        "  \n",
        "  batch_count.append(i)\n",
        "  \n",
        "  training_loss_history.append(training_loss)\n",
        "  test_loss_history.append(test_loss)\n",
        "  print(\"Epoch\", i, 'Training loss:', training_loss, 'Test Loss', test_loss)\n",
        "  \n",
        "  "
      ],
      "execution_count": 0,
      "outputs": [
        {
          "output_type": "stream",
          "text": [
            "Epoch 0 Training loss: 0.012667850907458646 Test Loss 0.01037443338753589\n",
            "Epoch 1 Training loss: 0.009932011825384642 Test Loss 0.00806257614650059\n",
            "Epoch 2 Training loss: 0.008893068172695494 Test Loss 0.00715023598126245\n",
            "Epoch 3 Training loss: 0.00832094668236202 Test Loss 0.006696805606255313\n",
            "Epoch 4 Training loss: 0.007937285874086882 Test Loss 0.006429311020019594\n",
            "Epoch 5 Training loss: 0.007653442744433053 Test Loss 0.00625277342112464\n",
            "Epoch 6 Training loss: 0.007430585442575113 Test Loss 0.0061279703872076105\n",
            "Epoch 7 Training loss: 0.007248770304644458 Test Loss 0.006035810754743321\n",
            "Epoch 8 Training loss: 0.0070965330312521445 Test Loss 0.005965686682643753\n",
            "Epoch 9 Training loss: 0.006966672976997389 Test Loss 0.005911075614424\n",
            "Epoch 10 Training loss: 0.00685434348206119 Test Loss 0.0058676751639692324\n",
            "Epoch 11 Training loss: 0.006756103248406914 Test Loss 0.005832527486462141\n",
            "Epoch 12 Training loss: 0.006669408000443859 Test Loss 0.005803554337398976\n",
            "Epoch 13 Training loss: 0.006592318538719736 Test Loss 0.005779277869737201\n",
            "Epoch 14 Training loss: 0.0065233217064138965 Test Loss 0.005758638034900754\n",
            "Epoch 15 Training loss: 0.006461214234502521 Test Loss 0.005740867953130069\n",
            "Epoch 16 Training loss: 0.006405024048406921 Test Loss 0.005725407425667953\n",
            "Epoch 17 Training loss: 0.006353955227714838 Test Loss 0.005711842582311791\n",
            "Epoch 18 Training loss: 0.006307348548790642 Test Loss 0.005699863666549902\n",
            "Epoch 19 Training loss: 0.006264652598613167 Test Loss 0.005689235439397764\n"
          ],
          "name": "stdout"
        }
      ]
    },
    {
      "metadata": {
        "id": "gt3pNR-XhK-g",
        "colab_type": "code",
        "outputId": "3e130a29-8fe5-4acf-d5ec-bb6bfe25e019",
        "colab": {
          "base_uri": "https://localhost:8080/",
          "height": 364
        }
      },
      "cell_type": "code",
      "source": [
        "import matplotlib as mpl\n",
        "import matplotlib.pyplot as plt\n",
        "\n",
        "plt.plot(batch_count, training_loss_history, label = \"Training Loss\")\n",
        "plt.plot(batch_count, test_loss_history, label = \"Test Loss\")\n",
        "plt.legend(loc=\"upper right\", fontsize=16)\n",
        "plt.xlabel(\"# of epochs\")\n",
        "plt.ylabel(\"MSE Loss\")\n",
        "plt.show()\n"
      ],
      "execution_count": 0,
      "outputs": [
        {
          "output_type": "display_data",
          "data": {
            "image/png": "[encoded data removed]",
            "text/plain": [
              "<Figure size 576x396 with 1 Axes>"
            ]
          },
          "metadata": {
            "tags": []
          }
        }
      ]
    }
  ]
}